{
 "cells": [
  {
   "cell_type": "code",
   "execution_count": 37,
   "id": "8b7b0047-d0c5-494e-b37f-77a8d0f3e722",
   "metadata": {},
   "outputs": [],
   "source": [
    "# Imports\n",
    "import numpy as np\n",
    "import pandas as pd\n",
    "import mne\n",
    "from os.path import exists"
   ]
  },
  {
   "cell_type": "code",
   "execution_count": 35,
   "id": "3f2a36a9-a3bd-46b2-a579-760803b34ebe",
   "metadata": {},
   "outputs": [],
   "source": [
    "# Set key variables\n",
    "path = '/projectnb/somerslab/tom/projects/spacetime_network/data/ROIs/'\n",
    "subjCodes = np.array(['MM', 'PP', 'MK', 'AB', 'AD', 'LA', 'AE', 'TP', 'NM', 'AF', 'AG', 'GG', 'UV', 'PQ', 'KQ', 'LN', 'RT', 'PT', 'PL', 'NS', 'AI'])\n",
    "ROI_names = np.array(['tgPCS', 'FO', 'CO', 'cIFSG', 'cmSFG', 'pAud', 'sPCS', 'iPCS', 'midIFS', 'pVis', 'sm_aINS', 'sm_preSMA', 'sm_dACC', 'sm_sPCS', 'sm_iPCS', 'sm_midFSG'])\n",
    "hemis = np.array(['lh', 'rh'])\n",
    "N_subj = len(subjCodes);\n",
    "N_ROIs = len(ROI_names);"
   ]
  },
  {
   "cell_type": "code",
   "execution_count": 80,
   "id": "f39ef07b-7ec2-4e2f-bec6-9b89580263bb",
   "metadata": {},
   "outputs": [],
   "source": [
    "MNI_vertices = np.empty((N_subj, N_ROIs, 2, 3))\n",
    "for ss in np.arange(N_subj):\n",
    "    subjCode = subjCodes[ss]\n",
    "    for rr in np.arange(N_ROIs):\n",
    "        ROI_name = ROI_names[rr]\n",
    "        for hh in np.arange(2):\n",
    "            hemi = hemis[hh]\n",
    "            ROI_path = path + subjCode + '_' + ROI_name + '_' + hemi + '.label'\n",
    "            if exists(ROI_path):\n",
    "                if 'PQ_pVis_rh.label' in ROI_path:\n",
    "                    continue\n",
    "                label = mne.read_label(ROI_path)\n",
    "                label.values[:] = 1\n",
    "                vertex = label.center_of_mass('fsaverage')\n",
    "                MNI_vert = mne.vertex_to_mni(vertex, hh, 'fsaverage')\n",
    "                MNI_vertices[ss,rr,hh,:] = MNI_vert\n",
    "            #elif 'sm_' in ROI_name:\n",
    "            #    ROI_path = path + subjCode + '_' + hemi + '_' + ROI_name + '.label'\n",
    "            #    label = mne.read_label(ROI_path)\n",
    "            #    label.values[:] = 1\n",
    "            #    vertex = label.center_of_mass('fsaverage')\n",
    "            #    MNI_vert = mne.vertex_to_mni(vertex, hh, 'fsaverage')\n",
    "            #    MNI_vertices[ss,rr,hh,:] = MNI_vert\n",
    "            else:\n",
    "                ROI_path = path + subjCode + '_' + ROI_name + '_replacement_' + hemi + '.label'\n",
    "                \n",
    "                if not exists(ROI_path):\n",
    "                    print('ROI not found for ' + ROI_path)\n",
    "                    error\n",
    "\n",
    "                label = mne.read_label(ROI_path)\n",
    "                label.values[:] = 1\n",
    "                vertex = label.center_of_mass('fsaverage')\n",
    "                MNI_vert = mne.vertex_to_mni(vertex, hh, 'fsaverage')\n",
    "                MNI_vertices[ss,rr,hh,:] = MNI_vert\n",
    "        "
   ]
  },
  {
   "cell_type": "code",
   "execution_count": 81,
   "id": "1d282f03-1c07-44c6-bd29-b82cf49913fd",
   "metadata": {},
   "outputs": [],
   "source": [
    "MNI_vert_means = np.mean(MNI_vertices, 0)"
   ]
  },
  {
   "cell_type": "code",
   "execution_count": 84,
   "id": "bf4bf8e7-afb1-48a1-8151-1b3bd02505fb",
   "metadata": {},
   "outputs": [
    {
     "data": {
      "text/plain": [
       "(16, 2, 3)"
      ]
     },
     "execution_count": 84,
     "metadata": {},
     "output_type": "execute_result"
    }
   ],
   "source": [
    "MNI_vert_means.shape"
   ]
  },
  {
   "cell_type": "code",
   "execution_count": 91,
   "id": "939d53f3-01d0-414c-939e-034b5bfebd21",
   "metadata": {},
   "outputs": [
    {
     "data": {
      "text/plain": [
       "array([[ 51.7110801 ,  -3.74780262,  41.8694478 ],\n",
       "       [ 48.28296389,  29.6203547 ,   3.17642433],\n",
       "       [ 59.05882409,  -3.75882616,  13.15119319],\n",
       "       [ 41.64500663,  15.29829645,  22.65391504],\n",
       "       [  7.96402532,   6.14909588,  62.08155187],\n",
       "       [ 58.58062562, -18.22836976,   3.59995443],\n",
       "       [ 36.8740555 ,  -5.70946731,  46.54740651],\n",
       "       [ 43.01895832,   2.63650972,  29.86798014],\n",
       "       [ 42.37443179,  29.21700941,  17.72846117],\n",
       "       [ 29.39987473, -83.2424033 ,   3.55183933],\n",
       "       [ 29.92511186,  25.15660831,   3.72223924],\n",
       "       [  8.5118843 ,  21.90229534,  44.64843714],\n",
       "       [ 12.61242097,  26.49976422,  26.44336719],\n",
       "       [ 28.55353274,  -4.03873806,  46.55598541],\n",
       "       [ 38.95743397,   6.45087414,  24.82487315],\n",
       "       [ 42.4332081 ,  35.0408515 ,  23.13941756]])"
      ]
     },
     "execution_count": 91,
     "metadata": {},
     "output_type": "execute_result"
    }
   ],
   "source": [
    "MNI_vert_means[:,1,:]"
   ]
  },
  {
   "cell_type": "code",
   "execution_count": 90,
   "id": "47efd0f6-5c06-4093-a306-37bfb4f73533",
   "metadata": {},
   "outputs": [
    {
     "data": {
      "text/plain": [
       "array(['tgPCS', 'FO', 'CO', 'cIFSG', 'cmSFG', 'pAud', 'sPCS', 'iPCS',\n",
       "       'midIFS', 'pVis', 'sm_aINS', 'sm_preSMA', 'sm_dACC', 'sm_sPCS',\n",
       "       'sm_iPCS', 'sm_midFSG'], dtype='<U9')"
      ]
     },
     "execution_count": 90,
     "metadata": {},
     "output_type": "execute_result"
    }
   ],
   "source": [
    "ROI_names"
   ]
  },
  {
   "cell_type": "code",
   "execution_count": null,
   "id": "fe4c17e3-fe92-49b0-aad4-3eb7cb7efbff",
   "metadata": {},
   "outputs": [],
   "source": []
  }
 ],
 "metadata": {
  "kernelspec": {
   "display_name": "Python 3 (ipykernel)",
   "language": "python",
   "name": "python3"
  },
  "language_info": {
   "codemirror_mode": {
    "name": "ipython",
    "version": 3
   },
   "file_extension": ".py",
   "mimetype": "text/x-python",
   "name": "python",
   "nbconvert_exporter": "python",
   "pygments_lexer": "ipython3",
   "version": "3.13.2"
  }
 },
 "nbformat": 4,
 "nbformat_minor": 5
}
