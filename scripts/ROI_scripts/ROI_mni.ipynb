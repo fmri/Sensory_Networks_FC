{
 "cells": [
  {
   "cell_type": "code",
   "execution_count": 1,
   "id": "8b7b0047-d0c5-494e-b37f-77a8d0f3e722",
   "metadata": {},
   "outputs": [],
   "source": [
    "# Imports\n",
    "import numpy as np\n",
    "import pandas as pd\n",
    "import mne\n",
    "from os.path import exists"
   ]
  },
  {
   "cell_type": "code",
   "execution_count": 5,
   "id": "3f2a36a9-a3bd-46b2-a579-760803b34ebe",
   "metadata": {},
   "outputs": [],
   "source": [
    "# Set key variables\n",
    "path = '/projectnb/somerslab/tom/projects/sensory_networks_FC/data/ROIs_final/labels_fsaverage/'\n",
    "subjCodes = np.array(['MM', 'PP', 'MK', 'AB', 'AD', 'LA', 'AE', 'TP', 'NM', 'AF', 'AG', 'GG', 'UV', 'PQ', 'KQ', 'LN', 'RT', 'PT', 'PL', 'NS', 'AI'])\n",
    "ROI_names = np.array(['tgPCS', 'FO', 'CO', 'cIFSG', 'cmSFG', 'pAud', 'sPCS', 'iPCS', 'midIFS', 'pVis', 'sm_aINS', 'sm_preSMA', 'sm_dACC', 'sm_sPCS', 'sm_iPCS', 'sm_midFSG'])\n",
    "hemis = np.array(['lh', 'rh'])\n",
    "N_subj = len(subjCodes);\n",
    "N_ROIs = len(ROI_names);"
   ]
  },
  {
   "cell_type": "code",
   "execution_count": 7,
   "id": "f39ef07b-7ec2-4e2f-bec6-9b89580263bb",
   "metadata": {},
   "outputs": [],
   "source": [
    "MNI_vertices = np.empty((N_subj, N_ROIs, 2, 3))\n",
    "for ss in np.arange(N_subj):\n",
    "    subjCode = subjCodes[ss]\n",
    "    for rr in np.arange(N_ROIs):\n",
    "        ROI_name = ROI_names[rr]\n",
    "        for hh in np.arange(2):\n",
    "            hemi = hemis[hh]\n",
    "            ROI_path = path + subjCode + '/' + hemi + '.' + ROI_name + '.label'\n",
    "            if exists(ROI_path):\n",
    "                #if 'PQ_pVis_rh.label' in ROI_path:\n",
    "                #    continue\n",
    "                label = mne.read_label(ROI_path)\n",
    "                label.values[:] = 1\n",
    "                vertex = label.center_of_mass('fsaverage')\n",
    "                MNI_vert = mne.vertex_to_mni(vertex, hh, 'fsaverage')\n",
    "                MNI_vertices[ss,rr,hh,:] = MNI_vert\n",
    "            else:\n",
    "                print(ROI_path)\n",
    "                error\n",
    "        "
   ]
  },
  {
   "cell_type": "code",
   "execution_count": 8,
   "id": "1d282f03-1c07-44c6-bd29-b82cf49913fd",
   "metadata": {},
   "outputs": [],
   "source": [
    "MNI_vert_means = np.mean(MNI_vertices, 0)"
   ]
  },
  {
   "cell_type": "code",
   "execution_count": 9,
   "id": "bf4bf8e7-afb1-48a1-8151-1b3bd02505fb",
   "metadata": {},
   "outputs": [
    {
     "data": {
      "text/plain": [
       "(16, 2, 3)"
      ]
     },
     "execution_count": 9,
     "metadata": {},
     "output_type": "execute_result"
    }
   ],
   "source": [
    "MNI_vert_means.shape"
   ]
  },
  {
   "cell_type": "code",
   "execution_count": 13,
   "id": "939d53f3-01d0-414c-939e-034b5bfebd21",
   "metadata": {},
   "outputs": [
    {
     "data": {
      "text/plain": [
       "array([[ 51.7110801 ,  -3.74780262,  41.8694478 ],\n",
       "       [ 47.9755665 ,  29.46953092,   3.13434521],\n",
       "       [ 58.98295575,  -3.74513312,  13.0090087 ],\n",
       "       [ 41.65775408,  15.10951172,  22.55709021],\n",
       "       [  7.93953584,   6.28474282,  62.07884307],\n",
       "       [ 58.58062562, -18.22836976,   3.59995443],\n",
       "       [ 36.8740555 ,  -5.70946731,  46.54740651],\n",
       "       [ 43.24908066,   2.80695611,  29.75876754],\n",
       "       [ 41.99016117,  29.66635568,  17.86056609],\n",
       "       [ 30.76743035, -87.46113514,   3.59155741],\n",
       "       [ 29.93458712,  24.95180339,   3.69108772],\n",
       "       [  8.52814645,  21.97597631,  44.62844703],\n",
       "       [ 12.61242097,  26.49976422,  26.44336719],\n",
       "       [ 27.26746623,  -2.4146802 ,  48.58415676],\n",
       "       [ 40.64070493,   9.83078949,  23.2550572 ],\n",
       "       [ 42.14069021,  36.26703789,  23.32938308]])"
      ]
     },
     "execution_count": 13,
     "metadata": {},
     "output_type": "execute_result"
    }
   ],
   "source": [
    "MNI_vert_means[:,1,:]"
   ]
  },
  {
   "cell_type": "code",
   "execution_count": 11,
   "id": "47efd0f6-5c06-4093-a306-37bfb4f73533",
   "metadata": {},
   "outputs": [
    {
     "data": {
      "text/plain": [
       "array(['tgPCS', 'FO', 'CO', 'cIFSG', 'cmSFG', 'pAud', 'sPCS', 'iPCS',\n",
       "       'midIFS', 'pVis', 'sm_aINS', 'sm_preSMA', 'sm_dACC', 'sm_sPCS',\n",
       "       'sm_iPCS', 'sm_midFSG'], dtype='<U9')"
      ]
     },
     "execution_count": 11,
     "metadata": {},
     "output_type": "execute_result"
    }
   ],
   "source": [
    "ROI_names"
   ]
  },
  {
   "cell_type": "code",
   "execution_count": null,
   "id": "fe4c17e3-fe92-49b0-aad4-3eb7cb7efbff",
   "metadata": {},
   "outputs": [],
   "source": []
  }
 ],
 "metadata": {
  "kernelspec": {
   "display_name": "Python 3 (ipykernel)",
   "language": "python",
   "name": "python3"
  },
  "language_info": {
   "codemirror_mode": {
    "name": "ipython",
    "version": 3
   },
   "file_extension": ".py",
   "mimetype": "text/x-python",
   "name": "python",
   "nbconvert_exporter": "python",
   "pygments_lexer": "ipython3",
   "version": "3.13.2"
  }
 },
 "nbformat": 4,
 "nbformat_minor": 5
}
