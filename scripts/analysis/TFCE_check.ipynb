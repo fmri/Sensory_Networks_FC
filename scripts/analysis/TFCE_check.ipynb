{
 "cells": [
  {
   "cell_type": "code",
   "execution_count": null,
   "id": "0012dce2",
   "metadata": {},
   "outputs": [],
   "source": [
    "#########\n",
    "# The purpose of this script is to do TFCE analysis on functional connectivity data and compare the results to results \n",
    "# from Conn\n",
    "# Tom Possidente - January 2025\n",
    "#########"
   ]
  },
  {
   "cell_type": "code",
   "execution_count": 184,
   "id": "b834f11d",
   "metadata": {},
   "outputs": [],
   "source": [
    "import numpy as np\n",
    "import pandas as pd\n",
    "import scipy\n",
    "from mne.stats import permutation_cluster_1samp_test"
   ]
  },
  {
   "cell_type": "markdown",
   "id": "e6771f7c-7652-4d7f-bfea-49ab721d2b71",
   "metadata": {},
   "source": [
    "**Load in gPPI betas for each condition (for each subj for each ROI for each connection) from mat file produced by Conn**"
   ]
  },
  {
   "cell_type": "code",
   "execution_count": 208,
   "id": "1b456a0c-53c1-4654-bf08-27fc800dd61e",
   "metadata": {},
   "outputs": [
    {
     "name": "stdout",
     "output_type": "stream",
     "text": [
      "(20, 26, 26)\n",
      "[array(['tgPCS (L)'], dtype='<U9') array(['FO (L)'], dtype='<U6')\n",
      " array(['CO (L)'], dtype='<U6') array(['cIFSG (L)'], dtype='<U9')\n",
      " array(['cmSFG (L)'], dtype='<U9') array(['tgPCS (R)'], dtype='<U9')\n",
      " array(['FO (R)'], dtype='<U6') array(['CO (R)'], dtype='<U6')\n",
      " array(['cIFSG (R)'], dtype='<U9') array(['cmSFG (R)'], dtype='<U9')\n",
      " array(['pAud (L)'], dtype='<U8') array(['pAud (R)'], dtype='<U8')\n",
      " array(['sPCS (L)'], dtype='<U8') array(['iPCS (L)'], dtype='<U8')\n",
      " array(['midIFS (L)'], dtype='<U10') array(['sPCS (R)'], dtype='<U8')\n",
      " array(['iPCS (R)'], dtype='<U8') array(['midIFS (R)'], dtype='<U10')\n",
      " array(['pVis (L)'], dtype='<U8') array(['pVis (R)'], dtype='<U8')\n",
      " array(['aINS (L)'], dtype='<U8') array(['preSMA (L)'], dtype='<U10')\n",
      " array(['dACC (L)'], dtype='<U8') array(['aINS (R)'], dtype='<U8')\n",
      " array(['preSMA (R)'], dtype='<U10') array(['dACC (R)'], dtype='<U8')]\n"
     ]
    }
   ],
   "source": [
    "ROI_data_fpath = '/projectnb/somerslab/tom/projects/spacetime_network/data/conn_toolbox_folder/conn_localizer_task/results/secondlevel/gPPI/AllSubjects/aA(-1).vA(1)/conn_gPPI_betadiffs.mat'\n",
    "mat = scipy.io.loadmat(ROI_data_fpath)\n",
    "\n",
    "beta_diffs = mat['beta_diffs']\n",
    "ROI_names = np.squeeze(mat['ROI_names'])\n",
    "adjmat = mat['adj_mat']\n",
    "\n",
    "# convert numpy adjmat to scipy sparse matrix\n",
    "adjmat_sp = scipy.sparse.coo_matrix(adjmat)\n",
    "\n",
    "print(np.shape(beta_diffs)) # subj x ROI x ROI_connection\n",
    "\n",
    "print(ROI_names)"
   ]
  },
  {
   "cell_type": "markdown",
   "id": "0e704e27-9670-4077-b1cc-2eb92be09452",
   "metadata": {},
   "source": [
    "**Do TFCE**"
   ]
  },
  {
   "cell_type": "code",
   "execution_count": 231,
   "id": "48b14eca-09e5-41d1-88e8-ce621dc234e3",
   "metadata": {},
   "outputs": [
    {
     "name": "stdout",
     "output_type": "stream",
     "text": [
      "Using a threshold of 2.093024\n",
      "stat_fun(H1): min=nan max=nan\n",
      "Running initial clustering …\n",
      "Found 36 clusters\n"
     ]
    },
    {
     "name": "stderr",
     "output_type": "stream",
     "text": [
      "/scratch/2396386.1.onrcc-m256/ipykernel_1140317/3644963081.py:3: RuntimeWarning: Provided stat_fun does not treat variables independently. Setting buffer_size to None.\n",
      "  t_tfce, clusters, p_tfce, H0 = permutation_cluster_1samp_test(\n",
      "100%|███████████████████████████| Permuting : 999/999 [00:02<00:00,  335.55it/s]\n"
     ]
    }
   ],
   "source": [
    "tfce_thresholds = dict(start=0, step=0.01)\n",
    "n_permutations = 1000\n",
    "t_tfce, clusters, p_tfce, H0 = permutation_cluster_1samp_test(\n",
    "    beta_diffs,\n",
    "    n_jobs=None,\n",
    "    t_power=2,\n",
    "    threshold=None,\n",
    "    adjacency=adjmat_sp,\n",
    "    n_permutations=n_permutations,\n",
    "    out_type=\"mask\",\n",
    ")"
   ]
  },
  {
   "cell_type": "code",
   "execution_count": 233,
   "id": "dfb836b5-a722-41a4-9bcc-fcc580dfaf27",
   "metadata": {},
   "outputs": [],
   "source": [
    "sig_clusters = np.array(clusters)[p_tfce<0.05]"
   ]
  },
  {
   "cell_type": "code",
   "execution_count": 267,
   "id": "d9da570a-ca2e-4f56-af7f-626d00355033",
   "metadata": {},
   "outputs": [
    {
     "name": "stdout",
     "output_type": "stream",
     "text": [
      "cluster 0\n",
      "midIFS (L) <-> pVis (L) 3.17\n",
      "midIFS (L) <-> pVis (R) 2.21\n",
      "sPCS (R) <-> pVis (R) 2.48\n",
      "iPCS (R) <-> pVis (L) 2.45\n",
      "iPCS (R) <-> pVis (R) 3.02\n",
      "midIFS (R) <-> pVis (L) 4.12\n",
      "midIFS (R) <-> pVis (R) 5.11\n",
      "\n",
      "cluster 1\n",
      "FO (L) <-> cmSFG (L) -3.02\n",
      "FO (L) <-> FO (R) -3.67\n",
      "FO (L) <-> cIFSG (R) -3.44\n",
      "FO (L) <-> cmSFG (R) -4.1\n",
      "CO (L) <-> cIFSG (L) -2.1\n",
      "CO (L) <-> cIFSG (R) -3.82\n",
      "\n",
      "cluster 2\n",
      "cIFSG (L) <-> FO (R) -2.29\n",
      "cmSFG (L) <-> FO (L) -2.32\n",
      "cmSFG (L) <-> tgPCS (R) -3.77\n",
      "cmSFG (L) <-> FO (R) -3.24\n",
      "cmSFG (L) <-> cIFSG (R) -2.59\n",
      "tgPCS (R) <-> FO (L) -2.97\n",
      "tgPCS (R) <-> cIFSG (R) -3.58\n",
      "FO (R) <-> FO (L) -2.57\n",
      "FO (R) <-> cmSFG (L) -2.49\n",
      "FO (R) <-> cIFSG (R) -3.04\n",
      "\n",
      "cluster 3\n",
      "cmSFG (L) <-> pAud (L) -4.92\n",
      "cmSFG (L) <-> pAud (R) -5.16\n",
      "tgPCS (R) <-> pAud (L) -3.63\n",
      "tgPCS (R) <-> pAud (R) -3.9\n",
      "FO (R) <-> pAud (R) -2.53\n",
      "\n",
      "cluster 4\n",
      "cIFSG (R) <-> FO (L) -3.52\n",
      "cIFSG (R) <-> CO (L) -2.25\n",
      "cIFSG (R) <-> cmSFG (L) -2.23\n",
      "cIFSG (R) <-> FO (R) -2.22\n",
      "cmSFG (R) <-> FO (L) -3.78\n",
      "pAud (L) <-> FO (L) -2.49\n",
      "pAud (L) <-> cIFSG (L) -2.74\n",
      "pAud (L) <-> cmSFG (L) -2.83\n",
      "pAud (L) <-> cIFSG (R) -4.08\n",
      "pAud (R) <-> FO (L) -2.17\n",
      "pAud (R) <-> cmSFG (L) -2.75\n",
      "pAud (R) <-> FO (R) -2.56\n",
      "pAud (R) <-> cIFSG (R) -3.3\n",
      "\n"
     ]
    }
   ],
   "source": [
    "for cc in range(sig_clusters.shape[0]):\n",
    "    cluster = sig_clusters[cc]\n",
    "    inds = np.where(cluster)\n",
    "    print('cluster ' + str(cc))\n",
    "    for ii in range(len(inds[0])):\n",
    "        print(ROI_names[inds[0][ii]][0] + ' <-> ' + ROI_names[inds[1][ii]][0] + ' ' + str(np.round(t_tfce[inds[0][ii], inds[1][ii]],2)))\n",
    "    print('')\n",
    "    \n"
   ]
  },
  {
   "cell_type": "code",
   "execution_count": 269,
   "id": "b4bb5df2-2a98-4745-aab8-2f67e062d767",
   "metadata": {},
   "outputs": [
    {
     "data": {
      "text/plain": [
       "array([0.028, 0.04 , 0.018, 0.018, 0.003])"
      ]
     },
     "execution_count": 269,
     "metadata": {},
     "output_type": "execute_result"
    }
   ],
   "source": [
    "p_tfce[p_tfce<0.05]"
   ]
  }
 ],
 "metadata": {
  "kernelspec": {
   "display_name": "Python 3 (ipykernel)",
   "language": "python",
   "name": "python3"
  },
  "language_info": {
   "codemirror_mode": {
    "name": "ipython",
    "version": 3
   },
   "file_extension": ".py",
   "mimetype": "text/x-python",
   "name": "python",
   "nbconvert_exporter": "python",
   "pygments_lexer": "ipython3",
   "version": "3.10.16"
  }
 },
 "nbformat": 4,
 "nbformat_minor": 5
}
