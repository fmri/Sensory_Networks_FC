{
 "cells": [
  {
   "cell_type": "code",
   "execution_count": null,
   "id": "0012dce2",
   "metadata": {},
   "outputs": [],
   "source": [
    "#########\n",
    "# The purpose of this script is to do TFCE analysis on functional connectivity data and compare the results to results \n",
    "# from Conn\n",
    "# Tom Possidente - January 2025\n",
    "#########"
   ]
  },
  {
   "cell_type": "code",
   "execution_count": 3,
   "id": "b834f11d",
   "metadata": {},
   "outputs": [],
   "source": [
    "import numpy as np\n",
    "import pandas as pd\n",
    "import scipy\n",
    "from mne.stats import permutation_cluster_1samp_test"
   ]
  },
  {
   "cell_type": "markdown",
   "id": "e6771f7c-7652-4d7f-bfea-49ab721d2b71",
   "metadata": {},
   "source": [
    "**Load in gPPI betas for each condition (for each subj for each ROI for each connection) from mat file produced by Conn**"
   ]
  },
  {
   "cell_type": "code",
   "execution_count": 18,
   "id": "1b456a0c-53c1-4654-bf08-27fc800dd61e",
   "metadata": {},
   "outputs": [
    {
     "name": "stdout",
     "output_type": "stream",
     "text": [
      "(21, 32, 32)\n",
      "[array(['avsm_ROIs.CO (L)'], dtype='<U16')\n",
      " array(['avsm_ROIs.FO (L)'], dtype='<U16')\n",
      " array(['avsm_ROIs.cIFSG (L)'], dtype='<U19')\n",
      " array(['avsm_ROIs.cmSFG (L)'], dtype='<U19')\n",
      " array(['avsm_ROIs.iPCS (L)'], dtype='<U18')\n",
      " array(['avsm_ROIs.midIFS (L)'], dtype='<U20')\n",
      " array(['avsm_ROIs.pAud (L)'], dtype='<U18')\n",
      " array(['avsm_ROIs.pVis (L)'], dtype='<U18')\n",
      " array(['avsm_ROIs.sPCS (L)'], dtype='<U18')\n",
      " array(['avsm_ROIs.tgPCS (L)'], dtype='<U19')\n",
      " array(['avsm_ROIs.sm_sPCS (L)'], dtype='<U21')\n",
      " array(['avsm_ROIs.sm_iPCS (L)'], dtype='<U21')\n",
      " array(['avsm_ROIs.sm_midFSG (L)'], dtype='<U23')\n",
      " array(['avsm_ROIs.sm_aINS (L)'], dtype='<U21')\n",
      " array(['avsm_ROIs.sm_preSMA (L)'], dtype='<U23')\n",
      " array(['avsm_ROIs.sm_dACC (L)'], dtype='<U21')\n",
      " array(['avsm_ROIs.CO (R)'], dtype='<U16')\n",
      " array(['avsm_ROIs.FO (R)'], dtype='<U16')\n",
      " array(['avsm_ROIs.cIFSG (R)'], dtype='<U19')\n",
      " array(['avsm_ROIs.cmSFG (R)'], dtype='<U19')\n",
      " array(['avsm_ROIs.iPCS (R)'], dtype='<U18')\n",
      " array(['avsm_ROIs.midIFS (R)'], dtype='<U20')\n",
      " array(['avsm_ROIs.pAud (R)'], dtype='<U18')\n",
      " array(['avsm_ROIs.pVis (R)'], dtype='<U18')\n",
      " array(['avsm_ROIs.sPCS (R)'], dtype='<U18')\n",
      " array(['avsm_ROIs.tgPCS (R)'], dtype='<U19')\n",
      " array(['avsm_ROIs.sm_sPCS (R)'], dtype='<U21')\n",
      " array(['avsm_ROIs.sm_iPCS (R)'], dtype='<U21')\n",
      " array(['avsm_ROIs.sm_midFSG (R)'], dtype='<U23')\n",
      " array(['avsm_ROIs.sm_aINS (R)'], dtype='<U21')\n",
      " array(['avsm_ROIs.sm_preSMA (R)'], dtype='<U23')\n",
      " array(['avsm_ROIs.sm_dACC (R)'], dtype='<U21')]\n"
     ]
    }
   ],
   "source": [
    "ROI_data_fpath = '/projectnb/somerslab/tom/projects/spacetime_network/data/conn_toolbox_folder/conn_localizer_task/results/secondlevel/avsm_gPPI/AllSubjects/aA(1).vA(-1)/conn_gPPI_betadiffs.mat'\n",
    "mat = scipy.io.loadmat(ROI_data_fpath)\n",
    "\n",
    "beta_diffs = mat['beta_diffs']\n",
    "ROI_names = np.squeeze(mat['ROI_names'])\n",
    "#adjmat = mat['adj_mat']\n",
    "adjmat = np.zeros([32,32])\n",
    "\n",
    "# convert numpy adjmat to scipy sparse matrix\n",
    "adjmat_sp = scipy.sparse.coo_matrix(adjmat)\n",
    "\n",
    "print(np.shape(beta_diffs)) # subj x ROI x ROI_connection\n",
    "\n",
    "print(ROI_names)"
   ]
  },
  {
   "cell_type": "markdown",
   "id": "0e704e27-9670-4077-b1cc-2eb92be09452",
   "metadata": {},
   "source": [
    "**Do TFCE**"
   ]
  },
  {
   "cell_type": "code",
   "execution_count": 24,
   "id": "48b14eca-09e5-41d1-88e8-ce621dc234e3",
   "metadata": {},
   "outputs": [
    {
     "name": "stdout",
     "output_type": "stream",
     "text": [
      "Using a threshold of 2.085963\n",
      "stat_fun(H1): min=nan max=nan\n",
      "Running initial clustering …\n",
      "Found 132 clusters\n"
     ]
    },
    {
     "name": "stderr",
     "output_type": "stream",
     "text": [
      "/scratch/3185826.1.onrcc-m256/ipykernel_3291625/1110698551.py:3: RuntimeWarning: Provided stat_fun does not treat variables independently. Setting buffer_size to None.\n",
      "  t_tfce, clusters, p_tfce, H0 = permutation_cluster_1samp_test(\n"
     ]
    },
    {
     "data": {
      "application/vnd.jupyter.widget-view+json": {
       "model_id": "f49f6f8b5cf34b67948faf6a13a1dae8",
       "version_major": 2,
       "version_minor": 0
      },
      "text/plain": [
       "  0%|          | Permuting : 0/9999 [00:00<?,       ?it/s]"
      ]
     },
     "metadata": {},
     "output_type": "display_data"
    }
   ],
   "source": [
    "tfce_thresholds = dict(start=0, step=0.01)\n",
    "n_permutations = 10000\n",
    "t_tfce, clusters, p_tfce, H0 = permutation_cluster_1samp_test(\n",
    "    beta_diffs,\n",
    "    n_jobs=None,\n",
    "    t_power=2,\n",
    "    threshold=None,\n",
    "    adjacency=adjmat_sp,\n",
    "    n_permutations=n_permutations,\n",
    "    out_type=\"mask\",\n",
    ")"
   ]
  },
  {
   "cell_type": "code",
   "execution_count": 27,
   "id": "dfb836b5-a722-41a4-9bcc-fcc580dfaf27",
   "metadata": {},
   "outputs": [],
   "source": [
    "sig_clusters = np.array(clusters)[p_tfce<0.05]"
   ]
  },
  {
   "cell_type": "code",
   "execution_count": 28,
   "id": "d9da570a-ca2e-4f56-af7f-626d00355033",
   "metadata": {},
   "outputs": [
    {
     "name": "stdout",
     "output_type": "stream",
     "text": [
      "cluster 0\n",
      "avsm_ROIs.sm_aINS (L) <-> avsm_ROIs.cIFSG (L) -4.57\n",
      "avsm_ROIs.sm_preSMA (L) <-> avsm_ROIs.cIFSG (L) -5.49\n",
      "\n",
      "cluster 1\n",
      "avsm_ROIs.cmSFG (R) <-> avsm_ROIs.sm_iPCS (R) -3.71\n",
      "avsm_ROIs.iPCS (R) <-> avsm_ROIs.sm_iPCS (R) -3.91\n",
      "avsm_ROIs.midIFS (R) <-> avsm_ROIs.sm_iPCS (R) -2.24\n",
      "\n",
      "cluster 2\n",
      "avsm_ROIs.midIFS (R) <-> avsm_ROIs.cmSFG (R) -5.76\n",
      "\n"
     ]
    }
   ],
   "source": [
    "for cc in range(sig_clusters.shape[0]):\n",
    "    cluster = sig_clusters[cc]\n",
    "    inds = np.where(cluster)\n",
    "    print('cluster ' + str(cc))\n",
    "    for ii in range(len(inds[0])):\n",
    "        print(ROI_names[inds[0][ii]][0] + ' <-> ' + ROI_names[inds[1][ii]][0] + ' ' + str(np.round(t_tfce[inds[0][ii], inds[1][ii]],2)))\n",
    "    print('')\n",
    "    \n"
   ]
  },
  {
   "cell_type": "code",
   "execution_count": 23,
   "id": "b4bb5df2-2a98-4745-aab8-2f67e062d767",
   "metadata": {},
   "outputs": [
    {
     "data": {
      "text/plain": [
       "array([0.003, 0.037, 0.042])"
      ]
     },
     "execution_count": 23,
     "metadata": {},
     "output_type": "execute_result"
    }
   ],
   "source": [
    "p_tfce[p_tfce<0.05]"
   ]
  }
 ],
 "metadata": {
  "kernelspec": {
   "display_name": "Python 3 (ipykernel)",
   "language": "python",
   "name": "python3"
  },
  "language_info": {
   "codemirror_mode": {
    "name": "ipython",
    "version": 3
   },
   "file_extension": ".py",
   "mimetype": "text/x-python",
   "name": "python",
   "nbconvert_exporter": "python",
   "pygments_lexer": "ipython3",
   "version": "3.13.2"
  }
 },
 "nbformat": 4,
 "nbformat_minor": 5
}
